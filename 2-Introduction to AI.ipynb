{
 "cells": [
  {
   "cell_type": "markdown",
   "id": "312247e6-f16d-45d8-adc5-8e8be1c03c6b",
   "metadata": {},
   "source": [
    "## Artificial Intelligence"
   ]
  },
  {
   "cell_type": "markdown",
   "id": "956e3ab1-e350-4a4a-9107-7e442ea6e79e",
   "metadata": {},
   "source": [
    "### What is Artificial Intelligence?\n",
    "\n",
    "- Thinking\n",
    "    - like a human\n",
    "    - rationally---optimally, or the best possible\n",
    "\n",
    "- Acting\n",
    "    - like a human\n",
    "    - rationally"
   ]
  },
  {
   "cell_type": "markdown",
   "id": "60b534a6-16a9-447d-beea-eaf990609e30",
   "metadata": {},
   "source": [
    "### Thinking Like a Human\n",
    "\n",
    "How do humans think?\n",
    "\n",
    "**Cognitive Science** is relatively new field that is trying to answer this question.\n",
    "\n",
    "<a href=\"https://en.wikipedia.org/wiki/Cognitive_science\"> Wikipedia entry for Cognitive Science </a>"
   ]
  },
  {
   "cell_type": "markdown",
   "id": "b15c29ec-59a6-4ca5-af99-f8c62885962b",
   "metadata": {},
   "source": [
    "### Acting Like a Human\n",
    "\n",
    "- A true \"artificial intelligence\" must be capable of interacting with\n",
    "its world."
   ]
  },
  {
   "cell_type": "markdown",
   "id": "5b30f351-384b-44a8-a537-719030a5c065",
   "metadata": {},
   "source": [
    "**The Turing Test**\n",
    "\n",
    "an empirical test for machine intelligence"
   ]
  },
  {
   "cell_type": "markdown",
   "id": "d8233c5a-b4d7-4f94-a5f4-b7fe0ef73feb",
   "metadata": {},
   "source": [
    "<img src=\"img/turning.png\" width=400 height=400 />"
   ]
  },
  {
   "cell_type": "markdown",
   "id": "396fa579-53d0-4938-932a-16f629f4ea63",
   "metadata": {},
   "source": [
    "### Thinking Rationally\n",
    "\n",
    "Rationality: doing the right thing, given what is known.\n",
    "\n",
    "Logical reasoning systems.\n",
    "\n",
    "Problems:\n",
    "\n",
    "- hard to write informal knowledge as logical statements\n",
    "- solving most logical reasoning problems currently takes too much time or memory."
   ]
  },
  {
   "cell_type": "markdown",
   "id": "5b113928-5f2d-4554-aa49-0e62eae78819",
   "metadata": {},
   "source": [
    "### Acting Rationally\n",
    "\n",
    "**Agent**: computer programs that\n",
    "\n",
    "- operate autonomously\n",
    "- perceive their environment\n",
    "- persist over long time periods\n",
    "- adapt to change\n",
    "- create and pursue goals\n",
    "\n",
    "\n",
    "**Rational agent**: an agent that acts to achieve the best outcome, or best average outcome if the agent has incomplete knowledge"
   ]
  },
  {
   "cell_type": "markdown",
   "id": "f41caa4a-7351-4fc0-9ab3-48efca426f01",
   "metadata": {},
   "source": [
    "### Intelligent Agents\n",
    "\n",
    "**An agent** is anything that can be viewed as perceiving its environment through sensors and acting upon that environment through actuators"
   ]
  },
  {
   "cell_type": "markdown",
   "id": "c10709e3-3a73-49fa-ac8a-5ec9fc5060cd",
   "metadata": {},
   "source": [
    "<img src=\"img/agent.png\" width=400 height=400 />"
   ]
  },
  {
   "cell_type": "markdown",
   "id": "f430784a-b805-4047-adf3-ab1ea00c1706",
   "metadata": {},
   "source": [
    "### Rationality\n",
    "\n",
    "But, which action to choose? A rational agent is one that does the \"right thing\", which depends on the performance measure.\n",
    "\n",
    "The performance measure should be designed to reflect what one actually wants in the environment, rather than how one suspects the agent should behave. Define it in terms of effects of actions on the environment, rather than in terms of the agent's program.\n",
    "\n",
    "\n",
    "Rational behavior is not perfect, because an agent cannot know everything about the environment, including past, present, and future. We focus on maximizing expected performance, given what we know about probabilities of things happening in the environment."
   ]
  },
  {
   "cell_type": "markdown",
   "id": "7c16309d-b052-4785-95b7-6981c4662874",
   "metadata": {},
   "source": [
    "### Nature of Environments\n",
    "\n",
    "Specify the task environment (PEAS):\n",
    "  * P: performance measure\n",
    "  * E: external environment\n",
    "  * A: agent's actuators\n",
    "  * S: agent's sensors"
   ]
  },
  {
   "cell_type": "markdown",
   "id": "a76ed7f1-d26b-45e4-bf3b-7c1125ef240d",
   "metadata": {},
   "source": [
    "<img src=\"img/taxi.png\" width=600 height=600 />\n",
    "        "
   ]
  },
  {
   "cell_type": "markdown",
   "id": "da451c7c-cc30-4254-83fe-a62c345877aa",
   "metadata": {},
   "source": [
    "**Task environments** vary along several significant dimensions. \n",
    "\n",
    "They can be **fully or partially observable** (agent’s sensors give it access to the complete state of the environment at each point in time),\n",
    "\n",
    "**single-agent or multiagent**, \n",
    "\n",
    "**deterministic or nondeterministic** (If the next state of the environment is completely determined by the current state and the action executed by the agent(s), then we say the environment is deterministic)\n",
    "\n",
    "**episodic or sequential** (In an episodic task environment, the agent’s experience is divided into atomic episodes, like classification), \n",
    "\n",
    "**static or dynamic** (the environment is dynamic if it can change while an agent is deliberating) \n",
    "\n",
    "**discrete or continuous** (The discrete/continuous distinction applies to the state of the environment, to the way time is handled, and to the percepts and actions of the agent), \n",
    "\n",
    "**known or unknown** (In a known environment, the outcomes for all actions are given)."
   ]
  },
  {
   "cell_type": "markdown",
   "id": "11b0d9b9-5100-4dc3-8aed-2e3a780a3cb8",
   "metadata": {},
   "source": [
    "| Task Environment  |  Observable  |  Agents  |  Deterministic  |  Episodic  |  Static  |  Discrete  |\n",
    "| --- | --- | --- | --- | --- | --- | --- |\n",
    "|  crossword puzzle  |  fully  |  single  |  deterministic  |  sequential  |  static  |  discrete  |\n",
    "| chess with clock  |  fully  |  multi  |  deterministic  |  sequential  |  semi  |  discrete  |\n",
    "|  poker  |  partially  |  multi  |  stochastic  |  sequential  |  static  |  discrete  |\n",
    "|  backgammon  |  fully  |  multi  |  stochastic  |  sequential  |  static  |  discrete  |\n",
    "|  taxi driving  |  partially  |  multi  |  stochastic  |  sequential  |  dynamic  |  continuous  |\n",
    "|  medical diagnosis  |  partially  |  single  |  stochastic  |  sequential  |  dynamic  |  continuous  |\n",
    "|  image analysis  |  fully  |  single  |  deterministic  |  episodic  |  semi  |  continuous  |\n",
    "|  part-picking robot  |  partially  |  single  |  stochastic  |  episodic  |  dynamic  |  continuous  |\n",
    "|  refinery controller  |  partially  |  single  |  stochastic  |  sequential  |  dynamic  |  continuous  |\n",
    "|  interactive English tutor  |  partially  |  multi  |  stochastic  |  sequential  |  dynamic  |  discrete  |"
   ]
  },
  {
   "cell_type": "markdown",
   "id": "a7e8b0bf-2947-4c6e-b17f-330b9aa50899",
   "metadata": {},
   "source": [
    "### Structure of Agents\n",
    "\n",
    "- **Simple reflex agents** respond directly to percepts\n",
    "- **model-based reflex agents** maintain internal state to track aspects of the world that are not evident in the current percept.\n",
    "- **Goal-based agents** act to achieve their goals\n",
    "- **utility-based agents** try to maximize their own expected “happiness.”\n",
    "\n",
    "\n",
    "All agents can improve their performance through **learning**."
   ]
  },
  {
   "cell_type": "markdown",
   "id": "70a14487-faf5-4987-8284-fec6fba51d05",
   "metadata": {},
   "source": [
    "### Subfields of AI"
   ]
  },
  {
   "cell_type": "markdown",
   "id": "b09df757-c265-4c88-89b1-3f78f01e5098",
   "metadata": {},
   "source": [
    "- Speech Processing: To understand speech, speech generation, machine dialog, machine user-interface.\n",
    "\n",
    "- Natural Language Processing: Information retrieval, Machine translation, Question/Answering, summarization.\n",
    "\n",
    "- Planning: Scheduling, game playing.\n",
    "\n",
    "- Engineering and Expert Systems: Troubleshooting medical diagnosis, Decision support systems, teaching systems.\n",
    "\n",
    "- Models of Brain and Evolutionary: Genetic algorithms, Brain modeling, time series prediction, classification.\n",
    "\n",
    "- Machine Vision and Robotics: Object recognition, image understanding, Intelligent control, autonomous exploration.\n",
    "\n",
    "- Machine Learning: Decision tree learning, Neural Networks."
   ]
  },
  {
   "cell_type": "code",
   "execution_count": null,
   "id": "e100b394-e006-47fc-a186-2c84009a6b14",
   "metadata": {},
   "outputs": [],
   "source": []
  }
 ],
 "metadata": {
  "kernelspec": {
   "display_name": "Python 3 (ipykernel)",
   "language": "python",
   "name": "python3"
  },
  "language_info": {
   "codemirror_mode": {
    "name": "ipython",
    "version": 3
   },
   "file_extension": ".py",
   "mimetype": "text/x-python",
   "name": "python",
   "nbconvert_exporter": "python",
   "pygments_lexer": "ipython3",
   "version": "3.12.1"
  }
 },
 "nbformat": 4,
 "nbformat_minor": 5
}
