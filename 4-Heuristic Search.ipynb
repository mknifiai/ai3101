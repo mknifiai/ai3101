{
 "cells": [
  {
   "cell_type": "markdown",
   "id": "8927386c-8d42-4b53-a8ab-fa840b3746b2",
   "metadata": {},
   "source": [
    "## Informed Search (Heuristic Search)"
   ]
  },
  {
   "cell_type": "markdown",
   "id": "7bb794f2-5344-4688-9ce3-ecca33c9d633",
   "metadata": {},
   "source": [
    "one that uses **domain-specific hints about the location of goals**—can find solutions more efficiently than an uninformed strategy. \n",
    "\n",
    "The hints come in the form of a heuristic function, **denoted $h(n)$**"
   ]
  },
  {
   "cell_type": "markdown",
   "id": "b1f0a654-5dbc-448a-ab34-67670fd2bfab",
   "metadata": {},
   "source": [
    "- A function that estimates how close a state is to a goal\n",
    "\n",
    "- Designed for a particular search problem"
   ]
  },
  {
   "cell_type": "markdown",
   "id": "5b496256-4b75-4f59-8679-ee7101ec696b",
   "metadata": {},
   "source": [
    "**Examples:**\n",
    "  \n",
    "    - Manhattan distance\n",
    "    \n",
    "    - Euclidean distance for pathing"
   ]
  },
  {
   "cell_type": "markdown",
   "id": "b824302b-500b-4f4d-9d91-bff6f933761c",
   "metadata": {},
   "source": [
    "- Funnctions we will use in informed search:\n",
    "  \n",
    "    * $f(n) =$ estimated cost of the solution path through node $n$\n",
    "    * $g(n) =$ the sum of the step costs so far from the start node to this node\n",
    "    * $h(n) =$ an estimate of the sum of the remaining step costs to a goal"
   ]
  },
  {
   "cell_type": "markdown",
   "id": "53a374e8-cf09-453e-9174-0db50a5bb02f",
   "metadata": {},
   "source": [
    "### 1. Uniform cost search\n",
    "\n",
    "- Uniform cost search (UCS) is a search algorithm that aims at finding the shortest path from a state $s_{start}$ to an end state $s_{end}$\n",
    "\n",
    "- **Strategy**: It expands lowest path cost $g(n)$, so the evaluation function $f(n) = g(n)$.\n",
    "\n",
    "- **Advantage**: UCS is complete and optimal!\n",
    "\n",
    "- **Disadvantage**:\n",
    "\n",
    "    - Explores options in every \"direction\"\n",
    "      \n",
    "    - No information about goal location"
   ]
  },
  {
   "cell_type": "markdown",
   "id": "284f4d32-4b1b-457a-b086-5d26c4e437a6",
   "metadata": {},
   "source": [
    "### 2. Greedy best-first search"
   ]
  },
  {
   "cell_type": "markdown",
   "id": "f99947c0-531e-4f06-bf0d-5d3e6c584f64",
   "metadata": {},
   "source": [
    "- Greedy best-first search is a form of best-first search that expands first the node with the lowest $h(n)$ value—the node that appears to be closest to the goal.\n",
    "\n",
    "- **Strategy:**\n",
    "\n",
    "    -  expand a node that you think is closest to a goal state\n",
    "\n",
    "    -  **Heuristic:** estimate of distance to nearest goal for each state\n",
    "\n",
    "- the evaluation function $f(n) = h(n)$.\n",
    "\n",
    "- **Best case:**\n",
    "\n",
    "    - Best-first takes you straight to the nearest goal\n",
    "\n",
    "- **A common case:**\n",
    "\n",
    "    - Suboptimal route to goal due to imperfect heuristic\n",
    "    - Does not lead to nearest goal\n",
    "\n",
    "- **Worst-case:** like a badly-guided DFS"
   ]
  },
  {
   "cell_type": "markdown",
   "id": "e027f835-a854-43e2-9107-8322eaf86783",
   "metadata": {},
   "source": [
    "### 3. $A^{*}$ search"
   ]
  },
  {
   "cell_type": "markdown",
   "id": "a5d6aaa1-482c-48a8-99f6-52ac13764477",
   "metadata": {},
   "source": [
    "The most common informed search algorithm is $A^{*}$ search, a\n",
    "best-first search that uses the evaluation function\n",
    "\n",
    "$f(n)=g(n)+h(n)$\n",
    "\n",
    "where $g(n)$ is the path cost from the initial state to node $n$, and $h(n)$ is the estimated cost of\n",
    "the shortest path from $n$ to a goal state, so we have\n",
    "\n",
    "$f (n) = \\text{estimated cost of the best path that continues from $n$ to a goal.}$"
   ]
  },
  {
   "cell_type": "markdown",
   "id": "faaac7e3-6ae1-45c9-8808-075e618cb719",
   "metadata": {},
   "source": [
    "<img src=\"img/astar1.png\" width=600 height=600 />"
   ]
  },
  {
   "cell_type": "markdown",
   "id": "f537f646-95da-418e-b7d2-2017c8a3ae8c",
   "metadata": {},
   "source": [
    "<img src=\"img/astar2.png\" width=600 height=600 />"
   ]
  },
  {
   "cell_type": "markdown",
   "id": "0017724d-4875-42c4-a3f6-8dcab67162b2",
   "metadata": {},
   "source": [
    "<br>\n",
    "\n",
    "$A^{*}$ search is **complete** (assuming all action costs > 0 and the state space is finite or has a solution).\n",
    "\n",
    "\n",
    "- **Consistency**:\n",
    "\n",
    "    - A heuristic $h$ is said to be consistent if it satisfies the two following properties:\n",
    "\n",
    "\n",
    "\n",
    "    1. For all states $s$ and actions $a$, <br>\n",
    "    \n",
    "       $h(s) \\le Cost(s,a) + h(Succ(s,a))$\n",
    " \n",
    "       <br>\n",
    "       \n",
    "    3. The end state verifies the following: $h(s_{end}) = 0$\n",
    "\n",
    "<br>\n",
    "\n",
    "- **Correctness**\n",
    "\n",
    "    - If $h$ is consistent, then $A^{*}$ returns the minimum cost path.\n",
    "  \n",
    "<br>\n",
    "\n",
    "- **admissibility**:\n",
    "\n",
    "    - an admissible heuristic is one that never overestimates the cost to reach a goal.\n",
    "\n",
    "    - $0 \\le h(s) \\le h^{*}(s)$ , where $h^{*}(s)$ is the true cost to a nearest goal.\n",
    " \n",
    "    - Coming up with admissible heuristics is most of what’s involved in using $A^{*}$ in practice.\n",
    "\n",
    "\n",
    "\n",
    "\n",
    "- With an admissible heuristic, $A^{*}$ is **cost-optimal**"
   ]
  }
 ],
 "metadata": {
  "kernelspec": {
   "display_name": "Python 3 (ipykernel)",
   "language": "python",
   "name": "python3"
  },
  "language_info": {
   "codemirror_mode": {
    "name": "ipython",
    "version": 3
   },
   "file_extension": ".py",
   "mimetype": "text/x-python",
   "name": "python",
   "nbconvert_exporter": "python",
   "pygments_lexer": "ipython3",
   "version": "3.12.1"
  }
 },
 "nbformat": 4,
 "nbformat_minor": 5
}
