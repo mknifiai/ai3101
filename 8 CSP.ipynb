{
 "cells": [
  {
   "cell_type": "markdown",
   "id": "868d557b-3def-4947-b1c9-4bfdf6c88ee9",
   "metadata": {},
   "source": [
    "## Constraint Satisfaction Problems"
   ]
  },
  {
   "cell_type": "markdown",
   "id": "92ac5165-dfee-4fa1-b39b-45f757b53938",
   "metadata": {},
   "source": [
    "**Constraint satisfaction problems (CSPs):**\n",
    "\n",
    "- A special subset of search problems\n",
    "  \n",
    "- State is defined by variables $X_{i}$\n",
    " with values from a domain $D$ (sometimes $D$ depends on $i$)\n",
    "\n",
    "\n",
    "- Goal test is a set of constraints specifying allowable\n",
    "combinations of values for subsets of variables"
   ]
  },
  {
   "cell_type": "markdown",
   "id": "0a020dde-d24f-42b8-8986-4c588b1e1395",
   "metadata": {},
   "source": [
    "**Example: Map Coloring**\n",
    "\n",
    "- Variables: WA, NT, Q, NSW, V, SA, T\n",
    "\n",
    "- Domains: {red, green, blue}\n",
    "\n",
    "- Constraints: adjacent regions must have different\n",
    "colors\n",
    "\n",
    "    - Implicit: $WA \\neq NT$\n",
    "    - Explicit: $(WA, NT) \\in \\{(red, green), (red, blue), \\dots\\}$\n",
    "\n",
    "\n",
    "- Solutions are assignments satisfying all constraints,\n",
    "e.g.:\n",
    "\n",
    "    - $\\{WA=red, NT=green, Q=red, NSW=greeen, V=red, SA=blue, T=green\\}$"
   ]
  },
  {
   "cell_type": "markdown",
   "id": "3ea9b181-b416-466d-abcc-722dc89f5dfc",
   "metadata": {},
   "source": [
    "<img src=\"img/map.png\" width=300 height=300 />"
   ]
  },
  {
   "cell_type": "markdown",
   "id": "e58d500a-cbbf-4d23-b25f-f482e91a5b6f",
   "metadata": {},
   "source": [
    "### Constraint Graphs"
   ]
  },
  {
   "cell_type": "markdown",
   "id": "4ab1aed5-66fe-4a9c-8d02-ccd82f8538a8",
   "metadata": {},
   "source": [
    "<img src=\"img/csp_graph.png\" width=200 height=200 />"
   ]
  },
  {
   "cell_type": "markdown",
   "id": "be36d822-7371-4e5d-9437-acdb6778c89e",
   "metadata": {},
   "source": [
    "- Binary CSP: each constraint relates (at most) two\n",
    "variables\n",
    "\n",
    "- Binary constraint graph: nodes are variables, arcs\n",
    "show constraints\n",
    "\n",
    "\n",
    "- General-purpose CSP algorithms use the graph\n",
    "structure to speed up search. E.g., Tasmania is an\n",
    "independent subproblem!"
   ]
  },
  {
   "cell_type": "markdown",
   "id": "eba89d0e-e82e-4cf3-b97d-09fd197f265c",
   "metadata": {},
   "source": [
    "### Backtracking Search"
   ]
  },
  {
   "cell_type": "markdown",
   "id": "d608c644-0ce9-4178-a2d8-d512b566d967",
   "metadata": {},
   "source": [
    "- Backtracking search is the basic uninformed algorithm for solving CSPs"
   ]
  },
  {
   "cell_type": "markdown",
   "id": "ba98889c-5255-40f0-a698-871f2c6f4919",
   "metadata": {},
   "source": [
    "- Idea 1: One variable at a time\n",
    "    - Variable assignments are commutative, so fix ordering\n",
    "    - I.e., [WA = red then NT = green] same as [NT = green then WA = red] Only need to consider assignments to a single variable at each step\n",
    "\n",
    "- Idea 2: Check constraints as you go\n",
    "    - I.e. consider only values which do not conflict previous assignments\n",
    "    - Might have to do some computation to check the constraints “Incremental goal test”"
   ]
  },
  {
   "cell_type": "markdown",
   "id": "568fa12e-2d53-4e08-82d1-898d18dc69b6",
   "metadata": {},
   "source": [
    "**Depth-first search with these two improvements\n",
    "is called backtracking search.**"
   ]
  },
  {
   "cell_type": "markdown",
   "id": "b59da125-9e95-4f1e-bdee-d916c62df8d8",
   "metadata": {},
   "source": [
    "<img src=\"img/backtrack.png\" width=300 height=300 />"
   ]
  },
  {
   "cell_type": "markdown",
   "id": "c1b06e91-0e0e-4956-b8fc-288ead8d1bce",
   "metadata": {},
   "source": [
    "### Improving Backtracking"
   ]
  },
  {
   "cell_type": "markdown",
   "id": "e0b0df63-b7aa-4cb6-906b-df02636d2d4f",
   "metadata": {},
   "source": [
    "- **Filtering**: Can we detect inevitable failure early?\n",
    "\n",
    "<br>\n",
    "\n",
    "- **Ordering**:\n",
    "    - Which variable should be assigned next?\n",
    "    - In what order should its values be tried?\n",
    "\n",
    "<br>\n",
    "\n",
    "- **Structure**: Can we exploit the problem structure?"
   ]
  },
  {
   "cell_type": "markdown",
   "id": "1a17f78f-89e5-4642-ab2b-015689b6f48d",
   "metadata": {},
   "source": [
    "### Filtering algorithm"
   ]
  },
  {
   "cell_type": "markdown",
   "id": "a5adcb9d-6332-4da0-9dad-ad991894853c",
   "metadata": {},
   "source": [
    "- **Filtering:** Keep track of domains for unassigned variables and cross off bad options\n",
    "\n",
    "- **Forward checking:** Cross off values that violate a constraint when added to the existing assignment"
   ]
  },
  {
   "cell_type": "markdown",
   "id": "9faa4a1f-1337-4ebd-8f30-a6dd70845a02",
   "metadata": {},
   "source": [
    "<img src=\"img/forwardcheck.png\" width=400 height=400 />"
   ]
  },
  {
   "cell_type": "markdown",
   "id": "3d8782d3-431e-48e8-91fb-b6ee076df37c",
   "metadata": {},
   "source": [
    "Forward checking propagates information from assigned to unassigned variables, but **doesn't provide early detection for all failures**"
   ]
  },
  {
   "cell_type": "markdown",
   "id": "e1abefe2-5d78-4dcc-acb4-9c12a91dd234",
   "metadata": {},
   "source": [
    "**Note that most filtering algorithms try to achieve arc consistency.**"
   ]
  },
  {
   "cell_type": "markdown",
   "id": "a2145bcb-39ca-4732-b346-3b358d2b74e6",
   "metadata": {},
   "source": [
    "Let $A$ and $B$ be unassigned variables in our CSP with a binary constraint between them.\n",
    "\n",
    "<img src=\"img/ht.png\" width=200 height=200 />"
   ]
  },
  {
   "cell_type": "markdown",
   "id": "5c0d45d9-bd7e-40f7-9a41-da71364cde86",
   "metadata": {},
   "source": [
    "An arc $A→B$ is consistent if and only if for all values $a$ remaining in $A$'s domain, there's some corresponding value $b$ remaining in $B$'s domain such that $a$ and $b$ satisfy all constraints between $A$ and $B$"
   ]
  },
  {
   "cell_type": "markdown",
   "id": "fe018258-a343-483b-ab40-1ea3ad33b8d0",
   "metadata": {},
   "source": [
    "If arc consistency is not satisfied at some point in our process of solving the CSP, we enforce it by removing values from the current domain of $A$ until the arc is consistent.\n",
    "\n",
    "<img src=\"img/arc.png\" width=400 height=400 />"
   ]
  },
  {
   "cell_type": "markdown",
   "id": "b90bfe83-eca6-4726-8a42-cf2a0a610ef6",
   "metadata": {},
   "source": [
    "- **Important:** If X loses a value, neighbors of X need to be rechecked!\n",
    "\n",
    "- Arc consistency detects failure earlier than forward checking\n",
    "\n",
    "- Can be run as a preprocessor or after each assignment "
   ]
  },
  {
   "cell_type": "markdown",
   "id": "5350c74f-acc9-45a3-8354-4e98bd6e86da",
   "metadata": {},
   "source": [
    "### Ordering\n",
    "\n",
    "When it comes to picking which variables to assign and which values to assign to them, we have two main heuristics for prioritizing the options.\n",
    "\n",
    "**Minimum Remaining Values:** pick the variable with the smallest number of remaining assignable values.\n",
    "\n",
    "Motivation: fail-fast approach. We need to assign all variables a value at some point, so we might as well do the harder variables first. This heuristic allows us to prune the search tree faster and detect whether we need to backtrack earlier.\n",
    "\n",
    "**Least Constraining Value:** pick the value that constrains the smallest number of the chosen variable's neighbors.\n",
    "\n",
    "Motivation: we want just one solution. We don't need to try all combinations of values, just ones that are more likely to be part of a valid solution."
   ]
  },
  {
   "cell_type": "markdown",
   "id": "ad3a665d-dc0d-4f76-b163-a65f5e8621b4",
   "metadata": {},
   "source": [
    "### Exercise: Arc Consistency + Ordering"
   ]
  },
  {
   "cell_type": "markdown",
   "id": "5a808c76-f3c1-4399-88c9-2c0971ffa464",
   "metadata": {},
   "source": [
    "<img src=\"img/exc.png\" width=200 height=200 />"
   ]
  },
  {
   "cell_type": "markdown",
   "id": "bfc1ae53-5a6f-486a-8ec9-4f52eb71bfa1",
   "metadata": {},
   "source": [
    "### Iterative Algorithms for CSPs"
   ]
  },
  {
   "cell_type": "markdown",
   "id": "d41f39b6-2b20-4827-aa2e-62a04e35c6a5",
   "metadata": {},
   "source": [
    "Algorithm: While not solved,\n",
    "\n",
    "- **Variable selection:** randomly select any conflicted variable\n",
    "\n",
    "- **Value selection:** min-conflicts heuristic\n",
    "\n",
    "    - **Choose a value that violates the fewest constraints**"
   ]
  },
  {
   "cell_type": "code",
   "execution_count": null,
   "id": "c1a0f37d-1bc0-4495-b3f8-1bd393f837d5",
   "metadata": {},
   "outputs": [],
   "source": []
  }
 ],
 "metadata": {
  "kernelspec": {
   "display_name": "Python 3 (ipykernel)",
   "language": "python",
   "name": "python3"
  },
  "language_info": {
   "codemirror_mode": {
    "name": "ipython",
    "version": 3
   },
   "file_extension": ".py",
   "mimetype": "text/x-python",
   "name": "python",
   "nbconvert_exporter": "python",
   "pygments_lexer": "ipython3",
   "version": "3.12.1"
  }
 },
 "nbformat": 4,
 "nbformat_minor": 5
}
